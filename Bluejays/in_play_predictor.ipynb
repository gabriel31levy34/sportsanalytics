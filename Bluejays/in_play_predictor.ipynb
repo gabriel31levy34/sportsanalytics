{
 "cells": [
  {
   "cell_type": "code",
   "execution_count": 188,
   "id": "d42d1e68-d40a-4da1-993b-4363c5aeaa26",
   "metadata": {},
   "outputs": [],
   "source": [
    "import pandas as pd\n",
    "import numpy as np\n",
    "from sklearn.linear_model import LinearRegression\n",
    "from sklearn.model_selection import train_test_split\n",
    "from sklearn.preprocessing import StandardScaler\n",
    "from sklearn.linear_model import LogisticRegression\n",
    "from sklearn.metrics import log_loss\n",
    "from sklearn.model_selection import GridSearchCV\n",
    "from sklearn.ensemble import RandomForestClassifier\n",
    "import xgboost as xgb\n",
    "from sklearn.neural_network import MLPClassifier\n",
    "from sklearn.pipeline import Pipeline"
   ]
  },
  {
   "cell_type": "code",
   "execution_count": 169,
   "id": "62cbd686-6294-48ea-9bbd-7dca1364891d",
   "metadata": {},
   "outputs": [],
   "source": [
    "import warnings\n",
    "warnings.filterwarnings('ignore')"
   ]
  },
  {
   "cell_type": "code",
   "execution_count": 282,
   "id": "dd8f5457-f53f-4039-a08f-8b8903d70495",
   "metadata": {},
   "outputs": [
    {
     "data": {
      "text/html": [
       "<div>\n",
       "<style scoped>\n",
       "    .dataframe tbody tr th:only-of-type {\n",
       "        vertical-align: middle;\n",
       "    }\n",
       "\n",
       "    .dataframe tbody tr th {\n",
       "        vertical-align: top;\n",
       "    }\n",
       "\n",
       "    .dataframe thead th {\n",
       "        text-align: right;\n",
       "    }\n",
       "</style>\n",
       "<table border=\"1\" class=\"dataframe\">\n",
       "  <thead>\n",
       "    <tr style=\"text-align: right;\">\n",
       "      <th></th>\n",
       "      <th>InPlay</th>\n",
       "      <th>Velo</th>\n",
       "      <th>SpinRate</th>\n",
       "      <th>HorzBreak</th>\n",
       "      <th>InducedVertBreak</th>\n",
       "    </tr>\n",
       "  </thead>\n",
       "  <tbody>\n",
       "    <tr>\n",
       "      <th>0</th>\n",
       "      <td>0</td>\n",
       "      <td>95.33</td>\n",
       "      <td>2893.0</td>\n",
       "      <td>10.68</td>\n",
       "      <td>21.33</td>\n",
       "    </tr>\n",
       "    <tr>\n",
       "      <th>1</th>\n",
       "      <td>0</td>\n",
       "      <td>94.41</td>\n",
       "      <td>2038.0</td>\n",
       "      <td>17.13</td>\n",
       "      <td>5.77</td>\n",
       "    </tr>\n",
       "    <tr>\n",
       "      <th>2</th>\n",
       "      <td>0</td>\n",
       "      <td>90.48</td>\n",
       "      <td>2183.0</td>\n",
       "      <td>6.61</td>\n",
       "      <td>15.39</td>\n",
       "    </tr>\n",
       "    <tr>\n",
       "      <th>3</th>\n",
       "      <td>0</td>\n",
       "      <td>93.04</td>\n",
       "      <td>2279.0</td>\n",
       "      <td>9.33</td>\n",
       "      <td>14.57</td>\n",
       "    </tr>\n",
       "    <tr>\n",
       "      <th>4</th>\n",
       "      <td>0</td>\n",
       "      <td>95.17</td>\n",
       "      <td>2384.0</td>\n",
       "      <td>6.99</td>\n",
       "      <td>17.62</td>\n",
       "    </tr>\n",
       "    <tr>\n",
       "      <th>...</th>\n",
       "      <td>...</td>\n",
       "      <td>...</td>\n",
       "      <td>...</td>\n",
       "      <td>...</td>\n",
       "      <td>...</td>\n",
       "    </tr>\n",
       "    <tr>\n",
       "      <th>9995</th>\n",
       "      <td>0</td>\n",
       "      <td>93.61</td>\n",
       "      <td>2074.0</td>\n",
       "      <td>13.08</td>\n",
       "      <td>7.39</td>\n",
       "    </tr>\n",
       "    <tr>\n",
       "      <th>9996</th>\n",
       "      <td>1</td>\n",
       "      <td>90.72</td>\n",
       "      <td>1928.0</td>\n",
       "      <td>14.10</td>\n",
       "      <td>6.08</td>\n",
       "    </tr>\n",
       "    <tr>\n",
       "      <th>9997</th>\n",
       "      <td>1</td>\n",
       "      <td>94.19</td>\n",
       "      <td>2694.0</td>\n",
       "      <td>0.98</td>\n",
       "      <td>14.95</td>\n",
       "    </tr>\n",
       "    <tr>\n",
       "      <th>9998</th>\n",
       "      <td>0</td>\n",
       "      <td>92.65</td>\n",
       "      <td>2176.0</td>\n",
       "      <td>9.28</td>\n",
       "      <td>17.62</td>\n",
       "    </tr>\n",
       "    <tr>\n",
       "      <th>9999</th>\n",
       "      <td>0</td>\n",
       "      <td>91.14</td>\n",
       "      <td>2292.0</td>\n",
       "      <td>8.93</td>\n",
       "      <td>18.81</td>\n",
       "    </tr>\n",
       "  </tbody>\n",
       "</table>\n",
       "<p>10000 rows × 5 columns</p>\n",
       "</div>"
      ],
      "text/plain": [
       "      InPlay   Velo  SpinRate  HorzBreak  InducedVertBreak\n",
       "0          0  95.33    2893.0      10.68             21.33\n",
       "1          0  94.41    2038.0      17.13              5.77\n",
       "2          0  90.48    2183.0       6.61             15.39\n",
       "3          0  93.04    2279.0       9.33             14.57\n",
       "4          0  95.17    2384.0       6.99             17.62\n",
       "...      ...    ...       ...        ...               ...\n",
       "9995       0  93.61    2074.0      13.08              7.39\n",
       "9996       1  90.72    1928.0      14.10              6.08\n",
       "9997       1  94.19    2694.0       0.98             14.95\n",
       "9998       0  92.65    2176.0       9.28             17.62\n",
       "9999       0  91.14    2292.0       8.93             18.81\n",
       "\n",
       "[10000 rows x 5 columns]"
      ]
     },
     "execution_count": 282,
     "metadata": {},
     "output_type": "execute_result"
    }
   ],
   "source": [
    "training = pd.read_csv('training.csv')\n",
    "training"
   ]
  },
  {
   "cell_type": "code",
   "execution_count": 283,
   "id": "8fdabae8-2143-48ee-af5a-3edef29c5542",
   "metadata": {},
   "outputs": [
    {
     "data": {
      "text/html": [
       "<div>\n",
       "<style scoped>\n",
       "    .dataframe tbody tr th:only-of-type {\n",
       "        vertical-align: middle;\n",
       "    }\n",
       "\n",
       "    .dataframe tbody tr th {\n",
       "        vertical-align: top;\n",
       "    }\n",
       "\n",
       "    .dataframe thead th {\n",
       "        text-align: right;\n",
       "    }\n",
       "</style>\n",
       "<table border=\"1\" class=\"dataframe\">\n",
       "  <thead>\n",
       "    <tr style=\"text-align: right;\">\n",
       "      <th></th>\n",
       "      <th>InPlay</th>\n",
       "      <th>Velo</th>\n",
       "      <th>SpinRate</th>\n",
       "      <th>HorzBreak</th>\n",
       "      <th>InducedVertBreak</th>\n",
       "    </tr>\n",
       "  </thead>\n",
       "  <tbody>\n",
       "    <tr>\n",
       "      <th>0</th>\n",
       "      <td>0</td>\n",
       "      <td>95.33</td>\n",
       "      <td>2893.0</td>\n",
       "      <td>10.68</td>\n",
       "      <td>21.33</td>\n",
       "    </tr>\n",
       "    <tr>\n",
       "      <th>1</th>\n",
       "      <td>0</td>\n",
       "      <td>94.41</td>\n",
       "      <td>2038.0</td>\n",
       "      <td>17.13</td>\n",
       "      <td>5.77</td>\n",
       "    </tr>\n",
       "    <tr>\n",
       "      <th>2</th>\n",
       "      <td>0</td>\n",
       "      <td>90.48</td>\n",
       "      <td>2183.0</td>\n",
       "      <td>6.61</td>\n",
       "      <td>15.39</td>\n",
       "    </tr>\n",
       "    <tr>\n",
       "      <th>3</th>\n",
       "      <td>0</td>\n",
       "      <td>93.04</td>\n",
       "      <td>2279.0</td>\n",
       "      <td>9.33</td>\n",
       "      <td>14.57</td>\n",
       "    </tr>\n",
       "    <tr>\n",
       "      <th>4</th>\n",
       "      <td>0</td>\n",
       "      <td>95.17</td>\n",
       "      <td>2384.0</td>\n",
       "      <td>6.99</td>\n",
       "      <td>17.62</td>\n",
       "    </tr>\n",
       "    <tr>\n",
       "      <th>...</th>\n",
       "      <td>...</td>\n",
       "      <td>...</td>\n",
       "      <td>...</td>\n",
       "      <td>...</td>\n",
       "      <td>...</td>\n",
       "    </tr>\n",
       "    <tr>\n",
       "      <th>9995</th>\n",
       "      <td>0</td>\n",
       "      <td>93.61</td>\n",
       "      <td>2074.0</td>\n",
       "      <td>13.08</td>\n",
       "      <td>7.39</td>\n",
       "    </tr>\n",
       "    <tr>\n",
       "      <th>9996</th>\n",
       "      <td>1</td>\n",
       "      <td>90.72</td>\n",
       "      <td>1928.0</td>\n",
       "      <td>14.10</td>\n",
       "      <td>6.08</td>\n",
       "    </tr>\n",
       "    <tr>\n",
       "      <th>9997</th>\n",
       "      <td>1</td>\n",
       "      <td>94.19</td>\n",
       "      <td>2694.0</td>\n",
       "      <td>0.98</td>\n",
       "      <td>14.95</td>\n",
       "    </tr>\n",
       "    <tr>\n",
       "      <th>9998</th>\n",
       "      <td>0</td>\n",
       "      <td>92.65</td>\n",
       "      <td>2176.0</td>\n",
       "      <td>9.28</td>\n",
       "      <td>17.62</td>\n",
       "    </tr>\n",
       "    <tr>\n",
       "      <th>9999</th>\n",
       "      <td>0</td>\n",
       "      <td>91.14</td>\n",
       "      <td>2292.0</td>\n",
       "      <td>8.93</td>\n",
       "      <td>18.81</td>\n",
       "    </tr>\n",
       "  </tbody>\n",
       "</table>\n",
       "<p>9994 rows × 5 columns</p>\n",
       "</div>"
      ],
      "text/plain": [
       "      InPlay   Velo  SpinRate  HorzBreak  InducedVertBreak\n",
       "0          0  95.33    2893.0      10.68             21.33\n",
       "1          0  94.41    2038.0      17.13              5.77\n",
       "2          0  90.48    2183.0       6.61             15.39\n",
       "3          0  93.04    2279.0       9.33             14.57\n",
       "4          0  95.17    2384.0       6.99             17.62\n",
       "...      ...    ...       ...        ...               ...\n",
       "9995       0  93.61    2074.0      13.08              7.39\n",
       "9996       1  90.72    1928.0      14.10              6.08\n",
       "9997       1  94.19    2694.0       0.98             14.95\n",
       "9998       0  92.65    2176.0       9.28             17.62\n",
       "9999       0  91.14    2292.0       8.93             18.81\n",
       "\n",
       "[9994 rows x 5 columns]"
      ]
     },
     "execution_count": 283,
     "metadata": {},
     "output_type": "execute_result"
    }
   ],
   "source": [
    "training.dropna(axis = 0, inplace=True)\n",
    "training"
   ]
  },
  {
   "cell_type": "code",
   "execution_count": 284,
   "id": "e4ae9653-93b4-4e1b-bbf5-074de981a008",
   "metadata": {},
   "outputs": [],
   "source": [
    "x = training.drop('InPlay', axis=1)\n",
    "y = training.InPlay\n",
    "x_train, x_val, y_train, y_val = train_test_split(x, y, test_size = 0.2)"
   ]
  },
  {
   "cell_type": "markdown",
   "id": "dea7a83d-f62c-413f-964a-13078162580a",
   "metadata": {},
   "source": [
    "Predicting probabilities - logistic regression?"
   ]
  },
  {
   "cell_type": "code",
   "execution_count": 159,
   "id": "ce8b7a10-c542-4fd0-baf5-1b65de252968",
   "metadata": {},
   "outputs": [],
   "source": [
    "log_pipe = Pipeline([\n",
    "    ('scaler', StandardScaler()),\n",
    "    ('classifier', LogisticRegression())\n",
    "])"
   ]
  },
  {
   "cell_type": "code",
   "execution_count": 181,
   "id": "9b2c2c7f-01db-41b1-ab51-d79a7bf87c52",
   "metadata": {},
   "outputs": [],
   "source": [
    "param_grid = {\n",
    "    'classifier__C': [0.001, 0.01, 0.1, 1, 10, 100],\n",
    "    'classifier__penalty': ['l1', 'l2', 'none', 'elasticnet'],\n",
    "    'classifier__solver': ['newton-cg', 'lbfgs', 'liblinear', 'sag', 'saga']\n",
    "}"
   ]
  },
  {
   "cell_type": "code",
   "execution_count": 182,
   "id": "eddccefc-2e59-4604-9d14-a0123bb3f64f",
   "metadata": {},
   "outputs": [],
   "source": [
    "grid_search = GridSearchCV(log_pipe, param_grid, cv=5, scoring='neg_log_loss')"
   ]
  },
  {
   "cell_type": "code",
   "execution_count": 183,
   "id": "ff9fe0d7-cb35-4ae7-9799-b78e3124aae5",
   "metadata": {},
   "outputs": [
    {
     "data": {
      "text/plain": [
       "({'classifier__C': 0.01,\n",
       "  'classifier__penalty': 'l2',\n",
       "  'classifier__solver': 'sag'},\n",
       " 0.5799009933857702)"
      ]
     },
     "execution_count": 183,
     "metadata": {},
     "output_type": "execute_result"
    }
   ],
   "source": [
    "grid_search.fit(x, y)\n",
    "best_params = grid_search.best_params_\n",
    "best_score = -grid_search.best_score_\n",
    "best_params, best_score"
   ]
  },
  {
   "cell_type": "markdown",
   "id": "93b85878-c61e-45d2-9e03-8a38d64cbe3b",
   "metadata": {},
   "source": [
    "Random Forest"
   ]
  },
  {
   "cell_type": "code",
   "execution_count": 171,
   "id": "22193d73-0aea-4786-8c7e-9969dba6fb5f",
   "metadata": {},
   "outputs": [],
   "source": [
    "rf_pipe = Pipeline([\n",
    "    ('scaler', StandardScaler()),\n",
    "    ('classifier', RandomForestClassifier())\n",
    "])\n",
    "\n",
    "param_grid_rf = {\n",
    "    'classifier__n_estimators': [50, 100, 150],\n",
    "    'classifier__max_depth': [None, 10, 20, 30],\n",
    "    'classifier__min_samples_split': [2, 5, 10],\n",
    "    'classifier__min_samples_leaf': [1, 2, 4]\n",
    "}"
   ]
  },
  {
   "cell_type": "code",
   "execution_count": 173,
   "id": "b743b459-69b1-49af-98b3-4d9924a52f81",
   "metadata": {},
   "outputs": [
    {
     "name": "stdout",
     "output_type": "stream",
     "text": [
      "Fitting 3 folds for each of 108 candidates, totalling 324 fits\n"
     ]
    },
    {
     "data": {
      "text/html": [
       "<style>#sk-container-id-3 {color: black;background-color: white;}#sk-container-id-3 pre{padding: 0;}#sk-container-id-3 div.sk-toggleable {background-color: white;}#sk-container-id-3 label.sk-toggleable__label {cursor: pointer;display: block;width: 100%;margin-bottom: 0;padding: 0.3em;box-sizing: border-box;text-align: center;}#sk-container-id-3 label.sk-toggleable__label-arrow:before {content: \"▸\";float: left;margin-right: 0.25em;color: #696969;}#sk-container-id-3 label.sk-toggleable__label-arrow:hover:before {color: black;}#sk-container-id-3 div.sk-estimator:hover label.sk-toggleable__label-arrow:before {color: black;}#sk-container-id-3 div.sk-toggleable__content {max-height: 0;max-width: 0;overflow: hidden;text-align: left;background-color: #f0f8ff;}#sk-container-id-3 div.sk-toggleable__content pre {margin: 0.2em;color: black;border-radius: 0.25em;background-color: #f0f8ff;}#sk-container-id-3 input.sk-toggleable__control:checked~div.sk-toggleable__content {max-height: 200px;max-width: 100%;overflow: auto;}#sk-container-id-3 input.sk-toggleable__control:checked~label.sk-toggleable__label-arrow:before {content: \"▾\";}#sk-container-id-3 div.sk-estimator input.sk-toggleable__control:checked~label.sk-toggleable__label {background-color: #d4ebff;}#sk-container-id-3 div.sk-label input.sk-toggleable__control:checked~label.sk-toggleable__label {background-color: #d4ebff;}#sk-container-id-3 input.sk-hidden--visually {border: 0;clip: rect(1px 1px 1px 1px);clip: rect(1px, 1px, 1px, 1px);height: 1px;margin: -1px;overflow: hidden;padding: 0;position: absolute;width: 1px;}#sk-container-id-3 div.sk-estimator {font-family: monospace;background-color: #f0f8ff;border: 1px dotted black;border-radius: 0.25em;box-sizing: border-box;margin-bottom: 0.5em;}#sk-container-id-3 div.sk-estimator:hover {background-color: #d4ebff;}#sk-container-id-3 div.sk-parallel-item::after {content: \"\";width: 100%;border-bottom: 1px solid gray;flex-grow: 1;}#sk-container-id-3 div.sk-label:hover label.sk-toggleable__label {background-color: #d4ebff;}#sk-container-id-3 div.sk-serial::before {content: \"\";position: absolute;border-left: 1px solid gray;box-sizing: border-box;top: 0;bottom: 0;left: 50%;z-index: 0;}#sk-container-id-3 div.sk-serial {display: flex;flex-direction: column;align-items: center;background-color: white;padding-right: 0.2em;padding-left: 0.2em;position: relative;}#sk-container-id-3 div.sk-item {position: relative;z-index: 1;}#sk-container-id-3 div.sk-parallel {display: flex;align-items: stretch;justify-content: center;background-color: white;position: relative;}#sk-container-id-3 div.sk-item::before, #sk-container-id-3 div.sk-parallel-item::before {content: \"\";position: absolute;border-left: 1px solid gray;box-sizing: border-box;top: 0;bottom: 0;left: 50%;z-index: -1;}#sk-container-id-3 div.sk-parallel-item {display: flex;flex-direction: column;z-index: 1;position: relative;background-color: white;}#sk-container-id-3 div.sk-parallel-item:first-child::after {align-self: flex-end;width: 50%;}#sk-container-id-3 div.sk-parallel-item:last-child::after {align-self: flex-start;width: 50%;}#sk-container-id-3 div.sk-parallel-item:only-child::after {width: 0;}#sk-container-id-3 div.sk-dashed-wrapped {border: 1px dashed gray;margin: 0 0.4em 0.5em 0.4em;box-sizing: border-box;padding-bottom: 0.4em;background-color: white;}#sk-container-id-3 div.sk-label label {font-family: monospace;font-weight: bold;display: inline-block;line-height: 1.2em;}#sk-container-id-3 div.sk-label-container {text-align: center;}#sk-container-id-3 div.sk-container {/* jupyter's `normalize.less` sets `[hidden] { display: none; }` but bootstrap.min.css set `[hidden] { display: none !important; }` so we also need the `!important` here to be able to override the default hidden behavior on the sphinx rendered scikit-learn.org. See: https://github.com/scikit-learn/scikit-learn/issues/21755 */display: inline-block !important;position: relative;}#sk-container-id-3 div.sk-text-repr-fallback {display: none;}</style><div id=\"sk-container-id-3\" class=\"sk-top-container\"><div class=\"sk-text-repr-fallback\"><pre>GridSearchCV(cv=3,\n",
       "             estimator=Pipeline(steps=[(&#x27;scaler&#x27;, StandardScaler()),\n",
       "                                       (&#x27;classifier&#x27;,\n",
       "                                        RandomForestClassifier())]),\n",
       "             param_grid={&#x27;classifier__max_depth&#x27;: [None, 10, 20, 30],\n",
       "                         &#x27;classifier__min_samples_leaf&#x27;: [1, 2, 4],\n",
       "                         &#x27;classifier__min_samples_split&#x27;: [2, 5, 10],\n",
       "                         &#x27;classifier__n_estimators&#x27;: [50, 100, 150]},\n",
       "             scoring=&#x27;neg_log_loss&#x27;, verbose=1)</pre><b>In a Jupyter environment, please rerun this cell to show the HTML representation or trust the notebook. <br />On GitHub, the HTML representation is unable to render, please try loading this page with nbviewer.org.</b></div><div class=\"sk-container\" hidden><div class=\"sk-item sk-dashed-wrapped\"><div class=\"sk-label-container\"><div class=\"sk-label sk-toggleable\"><input class=\"sk-toggleable__control sk-hidden--visually\" id=\"sk-estimator-id-3\" type=\"checkbox\" ><label for=\"sk-estimator-id-3\" class=\"sk-toggleable__label sk-toggleable__label-arrow\">GridSearchCV</label><div class=\"sk-toggleable__content\"><pre>GridSearchCV(cv=3,\n",
       "             estimator=Pipeline(steps=[(&#x27;scaler&#x27;, StandardScaler()),\n",
       "                                       (&#x27;classifier&#x27;,\n",
       "                                        RandomForestClassifier())]),\n",
       "             param_grid={&#x27;classifier__max_depth&#x27;: [None, 10, 20, 30],\n",
       "                         &#x27;classifier__min_samples_leaf&#x27;: [1, 2, 4],\n",
       "                         &#x27;classifier__min_samples_split&#x27;: [2, 5, 10],\n",
       "                         &#x27;classifier__n_estimators&#x27;: [50, 100, 150]},\n",
       "             scoring=&#x27;neg_log_loss&#x27;, verbose=1)</pre></div></div></div><div class=\"sk-parallel\"><div class=\"sk-parallel-item\"><div class=\"sk-item\"><div class=\"sk-label-container\"><div class=\"sk-label sk-toggleable\"><input class=\"sk-toggleable__control sk-hidden--visually\" id=\"sk-estimator-id-4\" type=\"checkbox\" ><label for=\"sk-estimator-id-4\" class=\"sk-toggleable__label sk-toggleable__label-arrow\">estimator: Pipeline</label><div class=\"sk-toggleable__content\"><pre>Pipeline(steps=[(&#x27;scaler&#x27;, StandardScaler()),\n",
       "                (&#x27;classifier&#x27;, RandomForestClassifier())])</pre></div></div></div><div class=\"sk-serial\"><div class=\"sk-item\"><div class=\"sk-serial\"><div class=\"sk-item\"><div class=\"sk-estimator sk-toggleable\"><input class=\"sk-toggleable__control sk-hidden--visually\" id=\"sk-estimator-id-5\" type=\"checkbox\" ><label for=\"sk-estimator-id-5\" class=\"sk-toggleable__label sk-toggleable__label-arrow\">StandardScaler</label><div class=\"sk-toggleable__content\"><pre>StandardScaler()</pre></div></div></div><div class=\"sk-item\"><div class=\"sk-estimator sk-toggleable\"><input class=\"sk-toggleable__control sk-hidden--visually\" id=\"sk-estimator-id-6\" type=\"checkbox\" ><label for=\"sk-estimator-id-6\" class=\"sk-toggleable__label sk-toggleable__label-arrow\">RandomForestClassifier</label><div class=\"sk-toggleable__content\"><pre>RandomForestClassifier()</pre></div></div></div></div></div></div></div></div></div></div></div></div>"
      ],
      "text/plain": [
       "GridSearchCV(cv=3,\n",
       "             estimator=Pipeline(steps=[('scaler', StandardScaler()),\n",
       "                                       ('classifier',\n",
       "                                        RandomForestClassifier())]),\n",
       "             param_grid={'classifier__max_depth': [None, 10, 20, 30],\n",
       "                         'classifier__min_samples_leaf': [1, 2, 4],\n",
       "                         'classifier__min_samples_split': [2, 5, 10],\n",
       "                         'classifier__n_estimators': [50, 100, 150]},\n",
       "             scoring='neg_log_loss', verbose=1)"
      ]
     },
     "execution_count": 173,
     "metadata": {},
     "output_type": "execute_result"
    }
   ],
   "source": [
    "grid_search_rf = GridSearchCV(rf_pipe, param_grid_rf, cv=3, scoring='neg_log_loss', verbose=1)\n",
    "grid_search_rf.fit(x,y)"
   ]
  },
  {
   "cell_type": "code",
   "execution_count": 174,
   "id": "fe0f4fd6-f546-422a-a868-fde16959ef21",
   "metadata": {},
   "outputs": [
    {
     "data": {
      "text/plain": [
       "({'classifier__max_depth': 10,\n",
       "  'classifier__min_samples_leaf': 4,\n",
       "  'classifier__min_samples_split': 2,\n",
       "  'classifier__n_estimators': 150},\n",
       " 0.5835634334088041)"
      ]
     },
     "execution_count": 174,
     "metadata": {},
     "output_type": "execute_result"
    }
   ],
   "source": [
    "best_params_rf = grid_search_rf.best_params_\n",
    "best_score_rf = -grid_search_rf.best_score_\n",
    "best_params_rf, best_score_rf"
   ]
  },
  {
   "cell_type": "markdown",
   "id": "6e184380-466c-46d0-9f64-82982f587b7f",
   "metadata": {},
   "source": [
    "Try boosting this"
   ]
  },
  {
   "cell_type": "code",
   "execution_count": 175,
   "id": "a0a0526f-2656-4e04-8af0-270daed3047f",
   "metadata": {},
   "outputs": [
    {
     "name": "stdout",
     "output_type": "stream",
     "text": [
      "Fitting 3 folds for each of 27 candidates, totalling 81 fits\n"
     ]
    },
    {
     "data": {
      "text/html": [
       "<style>#sk-container-id-4 {color: black;background-color: white;}#sk-container-id-4 pre{padding: 0;}#sk-container-id-4 div.sk-toggleable {background-color: white;}#sk-container-id-4 label.sk-toggleable__label {cursor: pointer;display: block;width: 100%;margin-bottom: 0;padding: 0.3em;box-sizing: border-box;text-align: center;}#sk-container-id-4 label.sk-toggleable__label-arrow:before {content: \"▸\";float: left;margin-right: 0.25em;color: #696969;}#sk-container-id-4 label.sk-toggleable__label-arrow:hover:before {color: black;}#sk-container-id-4 div.sk-estimator:hover label.sk-toggleable__label-arrow:before {color: black;}#sk-container-id-4 div.sk-toggleable__content {max-height: 0;max-width: 0;overflow: hidden;text-align: left;background-color: #f0f8ff;}#sk-container-id-4 div.sk-toggleable__content pre {margin: 0.2em;color: black;border-radius: 0.25em;background-color: #f0f8ff;}#sk-container-id-4 input.sk-toggleable__control:checked~div.sk-toggleable__content {max-height: 200px;max-width: 100%;overflow: auto;}#sk-container-id-4 input.sk-toggleable__control:checked~label.sk-toggleable__label-arrow:before {content: \"▾\";}#sk-container-id-4 div.sk-estimator input.sk-toggleable__control:checked~label.sk-toggleable__label {background-color: #d4ebff;}#sk-container-id-4 div.sk-label input.sk-toggleable__control:checked~label.sk-toggleable__label {background-color: #d4ebff;}#sk-container-id-4 input.sk-hidden--visually {border: 0;clip: rect(1px 1px 1px 1px);clip: rect(1px, 1px, 1px, 1px);height: 1px;margin: -1px;overflow: hidden;padding: 0;position: absolute;width: 1px;}#sk-container-id-4 div.sk-estimator {font-family: monospace;background-color: #f0f8ff;border: 1px dotted black;border-radius: 0.25em;box-sizing: border-box;margin-bottom: 0.5em;}#sk-container-id-4 div.sk-estimator:hover {background-color: #d4ebff;}#sk-container-id-4 div.sk-parallel-item::after {content: \"\";width: 100%;border-bottom: 1px solid gray;flex-grow: 1;}#sk-container-id-4 div.sk-label:hover label.sk-toggleable__label {background-color: #d4ebff;}#sk-container-id-4 div.sk-serial::before {content: \"\";position: absolute;border-left: 1px solid gray;box-sizing: border-box;top: 0;bottom: 0;left: 50%;z-index: 0;}#sk-container-id-4 div.sk-serial {display: flex;flex-direction: column;align-items: center;background-color: white;padding-right: 0.2em;padding-left: 0.2em;position: relative;}#sk-container-id-4 div.sk-item {position: relative;z-index: 1;}#sk-container-id-4 div.sk-parallel {display: flex;align-items: stretch;justify-content: center;background-color: white;position: relative;}#sk-container-id-4 div.sk-item::before, #sk-container-id-4 div.sk-parallel-item::before {content: \"\";position: absolute;border-left: 1px solid gray;box-sizing: border-box;top: 0;bottom: 0;left: 50%;z-index: -1;}#sk-container-id-4 div.sk-parallel-item {display: flex;flex-direction: column;z-index: 1;position: relative;background-color: white;}#sk-container-id-4 div.sk-parallel-item:first-child::after {align-self: flex-end;width: 50%;}#sk-container-id-4 div.sk-parallel-item:last-child::after {align-self: flex-start;width: 50%;}#sk-container-id-4 div.sk-parallel-item:only-child::after {width: 0;}#sk-container-id-4 div.sk-dashed-wrapped {border: 1px dashed gray;margin: 0 0.4em 0.5em 0.4em;box-sizing: border-box;padding-bottom: 0.4em;background-color: white;}#sk-container-id-4 div.sk-label label {font-family: monospace;font-weight: bold;display: inline-block;line-height: 1.2em;}#sk-container-id-4 div.sk-label-container {text-align: center;}#sk-container-id-4 div.sk-container {/* jupyter's `normalize.less` sets `[hidden] { display: none; }` but bootstrap.min.css set `[hidden] { display: none !important; }` so we also need the `!important` here to be able to override the default hidden behavior on the sphinx rendered scikit-learn.org. See: https://github.com/scikit-learn/scikit-learn/issues/21755 */display: inline-block !important;position: relative;}#sk-container-id-4 div.sk-text-repr-fallback {display: none;}</style><div id=\"sk-container-id-4\" class=\"sk-top-container\"><div class=\"sk-text-repr-fallback\"><pre>GridSearchCV(cv=3,\n",
       "             estimator=Pipeline(steps=[(&#x27;scaler&#x27;, StandardScaler()),\n",
       "                                       (&#x27;classifier&#x27;,\n",
       "                                        XGBClassifier(base_score=None,\n",
       "                                                      booster=None,\n",
       "                                                      callbacks=None,\n",
       "                                                      colsample_bylevel=None,\n",
       "                                                      colsample_bynode=None,\n",
       "                                                      colsample_bytree=None,\n",
       "                                                      early_stopping_rounds=None,\n",
       "                                                      enable_categorical=False,\n",
       "                                                      eval_metric=&#x27;logloss&#x27;,\n",
       "                                                      feature_types=None,\n",
       "                                                      gamma=None, gpu_id=None,\n",
       "                                                      grow_policy=None,\n",
       "                                                      import...\n",
       "                                                      max_delta_step=None,\n",
       "                                                      max_depth=None,\n",
       "                                                      max_leaves=None,\n",
       "                                                      min_child_weight=None,\n",
       "                                                      missing=nan,\n",
       "                                                      monotone_constraints=None,\n",
       "                                                      n_estimators=100,\n",
       "                                                      n_jobs=None,\n",
       "                                                      num_parallel_tree=None,\n",
       "                                                      predictor=None,\n",
       "                                                      random_state=None, ...))]),\n",
       "             param_grid={&#x27;classifier__learning_rate&#x27;: [0.01, 0.1, 0.2],\n",
       "                         &#x27;classifier__max_depth&#x27;: [3, 6, 9],\n",
       "                         &#x27;classifier__n_estimators&#x27;: [50, 100, 150]},\n",
       "             scoring=&#x27;neg_log_loss&#x27;, verbose=1)</pre><b>In a Jupyter environment, please rerun this cell to show the HTML representation or trust the notebook. <br />On GitHub, the HTML representation is unable to render, please try loading this page with nbviewer.org.</b></div><div class=\"sk-container\" hidden><div class=\"sk-item sk-dashed-wrapped\"><div class=\"sk-label-container\"><div class=\"sk-label sk-toggleable\"><input class=\"sk-toggleable__control sk-hidden--visually\" id=\"sk-estimator-id-7\" type=\"checkbox\" ><label for=\"sk-estimator-id-7\" class=\"sk-toggleable__label sk-toggleable__label-arrow\">GridSearchCV</label><div class=\"sk-toggleable__content\"><pre>GridSearchCV(cv=3,\n",
       "             estimator=Pipeline(steps=[(&#x27;scaler&#x27;, StandardScaler()),\n",
       "                                       (&#x27;classifier&#x27;,\n",
       "                                        XGBClassifier(base_score=None,\n",
       "                                                      booster=None,\n",
       "                                                      callbacks=None,\n",
       "                                                      colsample_bylevel=None,\n",
       "                                                      colsample_bynode=None,\n",
       "                                                      colsample_bytree=None,\n",
       "                                                      early_stopping_rounds=None,\n",
       "                                                      enable_categorical=False,\n",
       "                                                      eval_metric=&#x27;logloss&#x27;,\n",
       "                                                      feature_types=None,\n",
       "                                                      gamma=None, gpu_id=None,\n",
       "                                                      grow_policy=None,\n",
       "                                                      import...\n",
       "                                                      max_delta_step=None,\n",
       "                                                      max_depth=None,\n",
       "                                                      max_leaves=None,\n",
       "                                                      min_child_weight=None,\n",
       "                                                      missing=nan,\n",
       "                                                      monotone_constraints=None,\n",
       "                                                      n_estimators=100,\n",
       "                                                      n_jobs=None,\n",
       "                                                      num_parallel_tree=None,\n",
       "                                                      predictor=None,\n",
       "                                                      random_state=None, ...))]),\n",
       "             param_grid={&#x27;classifier__learning_rate&#x27;: [0.01, 0.1, 0.2],\n",
       "                         &#x27;classifier__max_depth&#x27;: [3, 6, 9],\n",
       "                         &#x27;classifier__n_estimators&#x27;: [50, 100, 150]},\n",
       "             scoring=&#x27;neg_log_loss&#x27;, verbose=1)</pre></div></div></div><div class=\"sk-parallel\"><div class=\"sk-parallel-item\"><div class=\"sk-item\"><div class=\"sk-label-container\"><div class=\"sk-label sk-toggleable\"><input class=\"sk-toggleable__control sk-hidden--visually\" id=\"sk-estimator-id-8\" type=\"checkbox\" ><label for=\"sk-estimator-id-8\" class=\"sk-toggleable__label sk-toggleable__label-arrow\">estimator: Pipeline</label><div class=\"sk-toggleable__content\"><pre>Pipeline(steps=[(&#x27;scaler&#x27;, StandardScaler()),\n",
       "                (&#x27;classifier&#x27;,\n",
       "                 XGBClassifier(base_score=None, booster=None, callbacks=None,\n",
       "                               colsample_bylevel=None, colsample_bynode=None,\n",
       "                               colsample_bytree=None,\n",
       "                               early_stopping_rounds=None,\n",
       "                               enable_categorical=False, eval_metric=&#x27;logloss&#x27;,\n",
       "                               feature_types=None, gamma=None, gpu_id=None,\n",
       "                               grow_policy=None, importance_type=None,\n",
       "                               interaction_constraints=None, learning_rate=None,\n",
       "                               max_bin=None, max_cat_threshold=None,\n",
       "                               max_cat_to_onehot=None, max_delta_step=None,\n",
       "                               max_depth=None, max_leaves=None,\n",
       "                               min_child_weight=None, missing=nan,\n",
       "                               monotone_constraints=None, n_estimators=100,\n",
       "                               n_jobs=None, num_parallel_tree=None,\n",
       "                               predictor=None, random_state=None, ...))])</pre></div></div></div><div class=\"sk-serial\"><div class=\"sk-item\"><div class=\"sk-serial\"><div class=\"sk-item\"><div class=\"sk-estimator sk-toggleable\"><input class=\"sk-toggleable__control sk-hidden--visually\" id=\"sk-estimator-id-9\" type=\"checkbox\" ><label for=\"sk-estimator-id-9\" class=\"sk-toggleable__label sk-toggleable__label-arrow\">StandardScaler</label><div class=\"sk-toggleable__content\"><pre>StandardScaler()</pre></div></div></div><div class=\"sk-item\"><div class=\"sk-estimator sk-toggleable\"><input class=\"sk-toggleable__control sk-hidden--visually\" id=\"sk-estimator-id-10\" type=\"checkbox\" ><label for=\"sk-estimator-id-10\" class=\"sk-toggleable__label sk-toggleable__label-arrow\">XGBClassifier</label><div class=\"sk-toggleable__content\"><pre>XGBClassifier(base_score=None, booster=None, callbacks=None,\n",
       "              colsample_bylevel=None, colsample_bynode=None,\n",
       "              colsample_bytree=None, early_stopping_rounds=None,\n",
       "              enable_categorical=False, eval_metric=&#x27;logloss&#x27;,\n",
       "              feature_types=None, gamma=None, gpu_id=None, grow_policy=None,\n",
       "              importance_type=None, interaction_constraints=None,\n",
       "              learning_rate=None, max_bin=None, max_cat_threshold=None,\n",
       "              max_cat_to_onehot=None, max_delta_step=None, max_depth=None,\n",
       "              max_leaves=None, min_child_weight=None, missing=nan,\n",
       "              monotone_constraints=None, n_estimators=100, n_jobs=None,\n",
       "              num_parallel_tree=None, predictor=None, random_state=None, ...)</pre></div></div></div></div></div></div></div></div></div></div></div></div>"
      ],
      "text/plain": [
       "GridSearchCV(cv=3,\n",
       "             estimator=Pipeline(steps=[('scaler', StandardScaler()),\n",
       "                                       ('classifier',\n",
       "                                        XGBClassifier(base_score=None,\n",
       "                                                      booster=None,\n",
       "                                                      callbacks=None,\n",
       "                                                      colsample_bylevel=None,\n",
       "                                                      colsample_bynode=None,\n",
       "                                                      colsample_bytree=None,\n",
       "                                                      early_stopping_rounds=None,\n",
       "                                                      enable_categorical=False,\n",
       "                                                      eval_metric='logloss',\n",
       "                                                      feature_types=None,\n",
       "                                                      gamma=None, gpu_id=None,\n",
       "                                                      grow_policy=None,\n",
       "                                                      import...\n",
       "                                                      max_delta_step=None,\n",
       "                                                      max_depth=None,\n",
       "                                                      max_leaves=None,\n",
       "                                                      min_child_weight=None,\n",
       "                                                      missing=nan,\n",
       "                                                      monotone_constraints=None,\n",
       "                                                      n_estimators=100,\n",
       "                                                      n_jobs=None,\n",
       "                                                      num_parallel_tree=None,\n",
       "                                                      predictor=None,\n",
       "                                                      random_state=None, ...))]),\n",
       "             param_grid={'classifier__learning_rate': [0.01, 0.1, 0.2],\n",
       "                         'classifier__max_depth': [3, 6, 9],\n",
       "                         'classifier__n_estimators': [50, 100, 150]},\n",
       "             scoring='neg_log_loss', verbose=1)"
      ]
     },
     "execution_count": 175,
     "metadata": {},
     "output_type": "execute_result"
    }
   ],
   "source": [
    "xgb_pipe = Pipeline([\n",
    "    ('scaler', StandardScaler()),\n",
    "    ('classifier', xgb.XGBClassifier(objective='binary:logistic', eval_metric='logloss'))\n",
    "])\n",
    "\n",
    "param_grid_xgb = {\n",
    "    'classifier__learning_rate': [0.01, 0.1, 0.2],\n",
    "    'classifier__max_depth': [3, 6, 9],\n",
    "    'classifier__n_estimators': [50, 100, 150]\n",
    "}\n",
    "\n",
    "grid_search_xgb = GridSearchCV(xgb_pipe, param_grid_xgb, cv=3, scoring='neg_log_loss', verbose=1)\n",
    "\n",
    "grid_search_xgb.fit(x,y)"
   ]
  },
  {
   "cell_type": "code",
   "execution_count": 176,
   "id": "7e7e0560-114c-49f2-9170-cc5ca3fd4ff2",
   "metadata": {},
   "outputs": [
    {
     "data": {
      "text/plain": [
       "({'classifier__learning_rate': 0.1,\n",
       "  'classifier__max_depth': 3,\n",
       "  'classifier__n_estimators': 50},\n",
       " 0.5835634334088041)"
      ]
     },
     "execution_count": 176,
     "metadata": {},
     "output_type": "execute_result"
    }
   ],
   "source": [
    "best_params_xgb = grid_search_xgb.best_params_\n",
    "best_score_xgb = -grid_search_xgb.best_score_\n",
    "best_params_xgb, best_score_rf"
   ]
  },
  {
   "cell_type": "code",
   "execution_count": 179,
   "id": "28cf8b71-3533-4103-a6e9-e5e55c5cd862",
   "metadata": {},
   "outputs": [
    {
     "name": "stdout",
     "output_type": "stream",
     "text": [
      "Fitting 3 folds for each of 24 candidates, totalling 72 fits\n"
     ]
    },
    {
     "data": {
      "text/plain": [
       "({'classifier__activation': 'tanh',\n",
       "  'classifier__hidden_layer_sizes': (100,),\n",
       "  'classifier__solver': 'adam'},\n",
       " 0.5795724550741278)"
      ]
     },
     "execution_count": 179,
     "metadata": {},
     "output_type": "execute_result"
    }
   ],
   "source": [
    "mlp_pipe = Pipeline([\n",
    "    ('scaler', StandardScaler()),\n",
    "    ('classifier', MLPClassifier(max_iter=500))\n",
    "])\n",
    "\n",
    "param_grid_mlp = {\n",
    "    'classifier__hidden_layer_sizes': [(10,), (20,), (10, 10), (100,)],\n",
    "    'classifier__activation': ['relu', 'tanh', 'logistic'],\n",
    "    'classifier__solver': ['adam', 'sgd']\n",
    "}\n",
    "mlp_gs = GridSearchCV(mlp_pipe, param_grid_mlp, cv=3, scoring='neg_log_loss', verbose=1)\n",
    "mlp_gs.fit(x,y)\n",
    "best_params_mlp = mlp_gs.best_params_\n",
    "best_score_mlp = -mlp_gs.best_score_\n",
    "best_params_mlp, best_score_mlp"
   ]
  },
  {
   "cell_type": "markdown",
   "id": "78b781bb-4ed4-4181-815f-0b7d748394f6",
   "metadata": {},
   "source": [
    "Going back to logistic regression - not good enough on others to account for lack of interpretability"
   ]
  },
  {
   "cell_type": "code",
   "execution_count": 221,
   "id": "bca581b0-fa9a-4ffd-99c5-3dcbd1b8d272",
   "metadata": {},
   "outputs": [
    {
     "data": {
      "text/plain": [
       "{'classifier__C': 0.01,\n",
       " 'classifier__penalty': 'l2',\n",
       " 'classifier__solver': 'sag'}"
      ]
     },
     "execution_count": 221,
     "metadata": {},
     "output_type": "execute_result"
    }
   ],
   "source": [
    "best_params"
   ]
  },
  {
   "cell_type": "code",
   "execution_count": 285,
   "id": "79dab604-785c-4273-8922-c534c28a0392",
   "metadata": {},
   "outputs": [],
   "source": [
    "best_log = LogisticRegression(C=.01, penalty='l2', solver='sag')\n",
    "scaler = StandardScaler()\n",
    "x_train_scaled = scaler.fit_transform(x_train)\n",
    "x_val_scaled = scaler.transform(x_val)\n",
    "best_log.fit(x_train_scaled, y_train)\n",
    "\n",
    "yh = best_log.predict_proba(x_val_scaled)[:, 1]"
   ]
  },
  {
   "cell_type": "code",
   "execution_count": 286,
   "id": "722f08f4-996a-48d3-a45e-96c3d77bdf9b",
   "metadata": {},
   "outputs": [
    {
     "data": {
      "text/plain": [
       "0.5774640208885886"
      ]
     },
     "execution_count": 286,
     "metadata": {},
     "output_type": "execute_result"
    }
   ],
   "source": [
    "loss_log = log_loss(y_val, yh)\n",
    "loss_log"
   ]
  },
  {
   "cell_type": "markdown",
   "id": "ace73dd7-ea51-4170-8963-25f854c9b76c",
   "metadata": {},
   "source": [
    "In order to show the effect of each metric, we want to take the exp of the coefficients. The coefficients are currently in log form. This will give us coefficients similar to linear regression, where each coefficient will correspond to the change in probability of InPlay with a 1 unit increase in the feature, holding all other features constant. The change is the percentage of the previous probability."
   ]
  },
  {
   "cell_type": "code",
   "execution_count": 287,
   "id": "537a214a-6043-47b4-a350-5290a9f78edc",
   "metadata": {},
   "outputs": [
    {
     "data": {
      "text/html": [
       "<div>\n",
       "<style scoped>\n",
       "    .dataframe tbody tr th:only-of-type {\n",
       "        vertical-align: middle;\n",
       "    }\n",
       "\n",
       "    .dataframe tbody tr th {\n",
       "        vertical-align: top;\n",
       "    }\n",
       "\n",
       "    .dataframe thead th {\n",
       "        text-align: right;\n",
       "    }\n",
       "</style>\n",
       "<table border=\"1\" class=\"dataframe\">\n",
       "  <thead>\n",
       "    <tr style=\"text-align: right;\">\n",
       "      <th></th>\n",
       "      <th>Feature</th>\n",
       "      <th>Log Coefficient</th>\n",
       "      <th>Coefficient Ratio</th>\n",
       "    </tr>\n",
       "  </thead>\n",
       "  <tbody>\n",
       "    <tr>\n",
       "      <th>0</th>\n",
       "      <td>Velo</td>\n",
       "      <td>-0.069715</td>\n",
       "      <td>0.932659</td>\n",
       "    </tr>\n",
       "    <tr>\n",
       "      <th>1</th>\n",
       "      <td>SpinRate</td>\n",
       "      <td>-0.037556</td>\n",
       "      <td>0.963140</td>\n",
       "    </tr>\n",
       "    <tr>\n",
       "      <th>2</th>\n",
       "      <td>HorzBreak</td>\n",
       "      <td>0.061230</td>\n",
       "      <td>1.063144</td>\n",
       "    </tr>\n",
       "    <tr>\n",
       "      <th>3</th>\n",
       "      <td>InducedVertBreak</td>\n",
       "      <td>-0.133838</td>\n",
       "      <td>0.874732</td>\n",
       "    </tr>\n",
       "  </tbody>\n",
       "</table>\n",
       "</div>"
      ],
      "text/plain": [
       "            Feature  Log Coefficient  Coefficient Ratio\n",
       "0              Velo        -0.069715           0.932659\n",
       "1          SpinRate        -0.037556           0.963140\n",
       "2         HorzBreak         0.061230           1.063144\n",
       "3  InducedVertBreak        -0.133838           0.874732"
      ]
     },
     "execution_count": 287,
     "metadata": {},
     "output_type": "execute_result"
    }
   ],
   "source": [
    "coefs = best_log.coef_[0]\n",
    "\n",
    "ratio_coefs = np.exp(coefs)\n",
    "\n",
    "feature_names = x.columns\n",
    "coef_df = pd.DataFrame({\n",
    "    'Feature': feature_names,\n",
    "    'Log Coefficient': coefs,\n",
    "    'Coefficient Ratio': ratio_coefs\n",
    "})\n",
    "\n",
    "coef_df"
   ]
  },
  {
   "cell_type": "markdown",
   "id": "060f99ed-9e60-44b5-bd14-4b1739913132",
   "metadata": {},
   "source": [
    "Again, the coefficient ratio is the multiplier we apply to the probability given a 1-unit increase in the feature. We see that an increase in horizontal break leads to an increase in in-play probability. This could be bias with vertical break. Let's fit a linear regression between the two to see if there is a correlation."
   ]
  },
  {
   "cell_type": "code",
   "execution_count": 288,
   "id": "95f9918a-b59a-4b5e-958d-b08bbf2062fe",
   "metadata": {},
   "outputs": [
    {
     "data": {
      "text/plain": [
       "(array([[-0.58085568]]), 0.31483254909111613)"
      ]
     },
     "execution_count": 288,
     "metadata": {},
     "output_type": "execute_result"
    }
   ],
   "source": [
    "vert = x_train_scaled[:, 3].reshape(-1, 1)\n",
    "horiz = x_train_scaled[:, 2].reshape(-1, 1)\n",
    "vert_val = x_val_scaled[:, 3].reshape(-1, 1)\n",
    "horiz_val = x_val_scaled[:, 2].reshape(-1, 1)\n",
    "lin_reg = LinearRegression()\n",
    "lin_reg.fit(vert, horiz)\n",
    "lin_reg.coef_, lin_reg.score(vert_val, horiz_val)"
   ]
  },
  {
   "cell_type": "markdown",
   "id": "2a7b95d5-ef05-4f4d-aacf-9cced263893a",
   "metadata": {},
   "source": [
    "We can see through a quick and basic linear model that vertical break has a negative effect on horizontal break with a decent r-square, which may be leaking into the results of our logistic regression model. We are already using regularization and cross-validation, so there may not be much else we can do. We can try an interaction term."
   ]
  },
  {
   "cell_type": "code",
   "execution_count": 289,
   "id": "82b71f3c-90e0-4a01-87d5-f30f9059056e",
   "metadata": {},
   "outputs": [
    {
     "data": {
      "text/plain": [
       "0.577808322997021"
      ]
     },
     "execution_count": 289,
     "metadata": {},
     "output_type": "execute_result"
    }
   ],
   "source": [
    "best_log_int = LogisticRegression(C=.01, penalty='l2', solver='sag')\n",
    "x_train['interaction_term'] = x_train.InducedVertBreak * x_train.HorzBreak\n",
    "x_val['interaction_term'] = x_val.InducedVertBreak * x_val.HorzBreak\n",
    "scaler = StandardScaler()\n",
    "x_train_scaled = scaler.fit_transform(x_train)\n",
    "x_val_scaled = scaler.transform(x_val)\n",
    "best_log_int.fit(x_train_scaled, y_train)\n",
    "\n",
    "yh = best_log_int.predict_proba(x_val_scaled)[:, 1]\n",
    "loss_log_int = log_loss(y_val, yh)\n",
    "loss_log_int"
   ]
  },
  {
   "cell_type": "markdown",
   "id": "e5c21f88-595f-451b-81f1-d98f1a5a2e44",
   "metadata": {},
   "source": [
    "Basically the same loss"
   ]
  },
  {
   "cell_type": "code",
   "execution_count": 290,
   "id": "3fca9797-99ff-4ffb-8425-2ac2b3429cfc",
   "metadata": {},
   "outputs": [
    {
     "data": {
      "text/html": [
       "<div>\n",
       "<style scoped>\n",
       "    .dataframe tbody tr th:only-of-type {\n",
       "        vertical-align: middle;\n",
       "    }\n",
       "\n",
       "    .dataframe tbody tr th {\n",
       "        vertical-align: top;\n",
       "    }\n",
       "\n",
       "    .dataframe thead th {\n",
       "        text-align: right;\n",
       "    }\n",
       "</style>\n",
       "<table border=\"1\" class=\"dataframe\">\n",
       "  <thead>\n",
       "    <tr style=\"text-align: right;\">\n",
       "      <th></th>\n",
       "      <th>Feature</th>\n",
       "      <th>Log Coefficient</th>\n",
       "      <th>Coefficient Ratio</th>\n",
       "    </tr>\n",
       "  </thead>\n",
       "  <tbody>\n",
       "    <tr>\n",
       "      <th>0</th>\n",
       "      <td>Velo</td>\n",
       "      <td>-0.071946</td>\n",
       "      <td>0.930581</td>\n",
       "    </tr>\n",
       "    <tr>\n",
       "      <th>1</th>\n",
       "      <td>SpinRate</td>\n",
       "      <td>-0.039097</td>\n",
       "      <td>0.961658</td>\n",
       "    </tr>\n",
       "    <tr>\n",
       "      <th>2</th>\n",
       "      <td>HorzBreak</td>\n",
       "      <td>-0.068376</td>\n",
       "      <td>0.933909</td>\n",
       "    </tr>\n",
       "    <tr>\n",
       "      <th>3</th>\n",
       "      <td>InducedVertBreak</td>\n",
       "      <td>-0.230553</td>\n",
       "      <td>0.794094</td>\n",
       "    </tr>\n",
       "    <tr>\n",
       "      <th>4</th>\n",
       "      <td>interaction_term</td>\n",
       "      <td>0.132893</td>\n",
       "      <td>1.142127</td>\n",
       "    </tr>\n",
       "  </tbody>\n",
       "</table>\n",
       "</div>"
      ],
      "text/plain": [
       "            Feature  Log Coefficient  Coefficient Ratio\n",
       "0              Velo        -0.071946           0.930581\n",
       "1          SpinRate        -0.039097           0.961658\n",
       "2         HorzBreak        -0.068376           0.933909\n",
       "3  InducedVertBreak        -0.230553           0.794094\n",
       "4  interaction_term         0.132893           1.142127"
      ]
     },
     "execution_count": 290,
     "metadata": {},
     "output_type": "execute_result"
    }
   ],
   "source": [
    "coefs_int = best_log_int.coef_[0]\n",
    "\n",
    "ratio_coefs_int = np.exp(coefs_int)\n",
    "\n",
    "feature_names = x_train.columns\n",
    "coef_df_int = pd.DataFrame({\n",
    "    'Feature': feature_names,\n",
    "    'Log Coefficient': coefs_int,\n",
    "    'Coefficient Ratio': ratio_coefs_int\n",
    "})\n",
    "\n",
    "coef_df_int"
   ]
  },
  {
   "cell_type": "markdown",
   "id": "121fd6af-f53f-4354-9f9e-e7e41910b36c",
   "metadata": {},
   "source": [
    "With the interaction term, we now see that horizontal break has a negative effect on the probability of the ball being put into play. This aligns better with our assumptions. Additionally, the effect of vertical break increased."
   ]
  },
  {
   "cell_type": "markdown",
   "id": "4006ea8a-563c-446a-a655-d89ac138bae5",
   "metadata": {},
   "source": [
    "It is also assumed that a bigger difference in horizontal break and vertical break is important"
   ]
  },
  {
   "cell_type": "code",
   "execution_count": 291,
   "id": "5e79fb74-ac85-46ec-bbd2-c6254555d82e",
   "metadata": {},
   "outputs": [
    {
     "data": {
      "text/plain": [
       "0.5784705894584745"
      ]
     },
     "execution_count": 291,
     "metadata": {},
     "output_type": "execute_result"
    }
   ],
   "source": [
    "best_log_int_diff = LogisticRegression(C=.01, penalty='l2', solver='sag')\n",
    "x_train['break_diff'] = np.abs(x_train.InducedVertBreak - x_train.HorzBreak)\n",
    "x_val['break_diff'] = np.abs(x_val.InducedVertBreak - x_val.HorzBreak)\n",
    "scaler = StandardScaler()\n",
    "x_train_scaled = scaler.fit_transform(x_train)\n",
    "x_val_scaled = scaler.transform(x_val)\n",
    "best_log_int_diff.fit(x_train_scaled, y_train)\n",
    "\n",
    "yh = best_log_int_diff.predict_proba(x_val_scaled)[:, 1]\n",
    "loss_log_int_diff = log_loss(y_val, yh)\n",
    "loss_log_int_diff"
   ]
  },
  {
   "cell_type": "code",
   "execution_count": 292,
   "id": "732df68c-e16e-43d2-9147-557d28ae46a3",
   "metadata": {},
   "outputs": [
    {
     "data": {
      "text/html": [
       "<div>\n",
       "<style scoped>\n",
       "    .dataframe tbody tr th:only-of-type {\n",
       "        vertical-align: middle;\n",
       "    }\n",
       "\n",
       "    .dataframe tbody tr th {\n",
       "        vertical-align: top;\n",
       "    }\n",
       "\n",
       "    .dataframe thead th {\n",
       "        text-align: right;\n",
       "    }\n",
       "</style>\n",
       "<table border=\"1\" class=\"dataframe\">\n",
       "  <thead>\n",
       "    <tr style=\"text-align: right;\">\n",
       "      <th></th>\n",
       "      <th>Feature</th>\n",
       "      <th>Log Coefficient</th>\n",
       "      <th>Coefficient Ratio</th>\n",
       "    </tr>\n",
       "  </thead>\n",
       "  <tbody>\n",
       "    <tr>\n",
       "      <th>0</th>\n",
       "      <td>Velo</td>\n",
       "      <td>-0.073588</td>\n",
       "      <td>0.929055</td>\n",
       "    </tr>\n",
       "    <tr>\n",
       "      <th>1</th>\n",
       "      <td>SpinRate</td>\n",
       "      <td>-0.028084</td>\n",
       "      <td>0.972306</td>\n",
       "    </tr>\n",
       "    <tr>\n",
       "      <th>2</th>\n",
       "      <td>HorzBreak</td>\n",
       "      <td>-0.011276</td>\n",
       "      <td>0.988787</td>\n",
       "    </tr>\n",
       "    <tr>\n",
       "      <th>3</th>\n",
       "      <td>InducedVertBreak</td>\n",
       "      <td>-0.153871</td>\n",
       "      <td>0.857382</td>\n",
       "    </tr>\n",
       "    <tr>\n",
       "      <th>4</th>\n",
       "      <td>interaction_term</td>\n",
       "      <td>0.012926</td>\n",
       "      <td>1.013010</td>\n",
       "    </tr>\n",
       "    <tr>\n",
       "      <th>5</th>\n",
       "      <td>break_diff</td>\n",
       "      <td>-0.118702</td>\n",
       "      <td>0.888073</td>\n",
       "    </tr>\n",
       "  </tbody>\n",
       "</table>\n",
       "</div>"
      ],
      "text/plain": [
       "            Feature  Log Coefficient  Coefficient Ratio\n",
       "0              Velo        -0.073588           0.929055\n",
       "1          SpinRate        -0.028084           0.972306\n",
       "2         HorzBreak        -0.011276           0.988787\n",
       "3  InducedVertBreak        -0.153871           0.857382\n",
       "4  interaction_term         0.012926           1.013010\n",
       "5        break_diff        -0.118702           0.888073"
      ]
     },
     "execution_count": 292,
     "metadata": {},
     "output_type": "execute_result"
    }
   ],
   "source": [
    "coefs_int_diff = best_log_int_diff.coef_[0]\n",
    "\n",
    "ratio_coefs_int_diff = np.exp(coefs_int_diff)\n",
    "\n",
    "feature_names = x_train.columns\n",
    "coefs_int_diff = pd.DataFrame({\n",
    "    'Feature': feature_names,\n",
    "    'Log Coefficient': coefs_int_diff,\n",
    "    'Coefficient Ratio': ratio_coefs_int_diff\n",
    "})\n",
    "\n",
    "coefs_int_diff"
   ]
  },
  {
   "cell_type": "code",
   "execution_count": 304,
   "id": "e4137d16-21d6-4951-be63-b99f34beed48",
   "metadata": {},
   "outputs": [],
   "source": [
    "x['break_diff'] = np.abs(x.InducedVertBreak - x.HorzBreak)\n",
    "x['interaction_term'] = x.InducedVertBreak * x.HorzBreak"
   ]
  },
  {
   "cell_type": "code",
   "execution_count": 305,
   "id": "9a6a5598-4500-4b3a-8096-47e4d43fcc36",
   "metadata": {},
   "outputs": [
    {
     "name": "stdout",
     "output_type": "stream",
     "text": [
      "Fitting 3 folds for each of 120 candidates, totalling 360 fits\n"
     ]
    },
    {
     "data": {
      "text/plain": [
       "({'classifier__C': 0.01,\n",
       "  'classifier__penalty': 'l2',\n",
       "  'classifier__solver': 'saga'},\n",
       " 0.5795180171791857)"
      ]
     },
     "execution_count": 305,
     "metadata": {},
     "output_type": "execute_result"
    }
   ],
   "source": [
    "final_pipe = Pipeline([\n",
    "    ('scaler', StandardScaler()),\n",
    "    ('classifier', LogisticRegression())\n",
    "])\n",
    "\n",
    "param_grid = {\n",
    "    'classifier__C': [0.001, 0.01, 0.1, 1, 10, 100],\n",
    "    'classifier__penalty': ['l1', 'l2', 'none', 'elasticnet'],\n",
    "    'classifier__solver': ['newton-cg', 'lbfgs', 'liblinear', 'sag', 'saga']\n",
    "}\n",
    "log_gs = GridSearchCV(final_pipe, param_grid, cv=3, scoring='neg_log_loss', verbose=1)\n",
    "log_gs.fit(x,y)\n",
    "best_params_log = log_gs.best_params_\n",
    "best_score_log = -log_gs.best_score_\n",
    "best_params_log, best_score_log"
   ]
  },
  {
   "cell_type": "code",
   "execution_count": 306,
   "id": "de2b54c8-b120-4332-8090-e38c5b8f0a06",
   "metadata": {},
   "outputs": [
    {
     "data": {
      "text/plain": [
       "0.5784708037826994"
      ]
     },
     "execution_count": 306,
     "metadata": {},
     "output_type": "execute_result"
    }
   ],
   "source": [
    "final_log = LogisticRegression(C=.01, penalty='l2', solver='sag')\n",
    "scaler = StandardScaler()\n",
    "x_train_scaled = scaler.fit_transform(x_train)\n",
    "x_val_scaled = scaler.transform(x_val)\n",
    "final_log.fit(x_train_scaled, y_train)\n",
    "\n",
    "yh = final_log.predict_proba(x_val_scaled)[:, 1]\n",
    "loss_log_int_diff = log_loss(y_val, yh)\n",
    "loss_log_int_diff"
   ]
  },
  {
   "cell_type": "code",
   "execution_count": 307,
   "id": "18a1611f-f252-4eef-b059-8300809380ac",
   "metadata": {},
   "outputs": [
    {
     "data": {
      "text/html": [
       "<div>\n",
       "<style scoped>\n",
       "    .dataframe tbody tr th:only-of-type {\n",
       "        vertical-align: middle;\n",
       "    }\n",
       "\n",
       "    .dataframe tbody tr th {\n",
       "        vertical-align: top;\n",
       "    }\n",
       "\n",
       "    .dataframe thead th {\n",
       "        text-align: right;\n",
       "    }\n",
       "</style>\n",
       "<table border=\"1\" class=\"dataframe\">\n",
       "  <thead>\n",
       "    <tr style=\"text-align: right;\">\n",
       "      <th></th>\n",
       "      <th>Feature</th>\n",
       "      <th>Log Coefficient</th>\n",
       "      <th>Coefficient Ratio</th>\n",
       "    </tr>\n",
       "  </thead>\n",
       "  <tbody>\n",
       "    <tr>\n",
       "      <th>0</th>\n",
       "      <td>Velo</td>\n",
       "      <td>-0.073579</td>\n",
       "      <td>0.929063</td>\n",
       "    </tr>\n",
       "    <tr>\n",
       "      <th>1</th>\n",
       "      <td>SpinRate</td>\n",
       "      <td>-0.028074</td>\n",
       "      <td>0.972316</td>\n",
       "    </tr>\n",
       "    <tr>\n",
       "      <th>2</th>\n",
       "      <td>HorzBreak</td>\n",
       "      <td>-0.011278</td>\n",
       "      <td>0.988785</td>\n",
       "    </tr>\n",
       "    <tr>\n",
       "      <th>3</th>\n",
       "      <td>InducedVertBreak</td>\n",
       "      <td>-0.153855</td>\n",
       "      <td>0.857396</td>\n",
       "    </tr>\n",
       "    <tr>\n",
       "      <th>4</th>\n",
       "      <td>interaction_term</td>\n",
       "      <td>0.012924</td>\n",
       "      <td>1.013008</td>\n",
       "    </tr>\n",
       "    <tr>\n",
       "      <th>5</th>\n",
       "      <td>break_diff</td>\n",
       "      <td>-0.118688</td>\n",
       "      <td>0.888085</td>\n",
       "    </tr>\n",
       "  </tbody>\n",
       "</table>\n",
       "</div>"
      ],
      "text/plain": [
       "            Feature  Log Coefficient  Coefficient Ratio\n",
       "0              Velo        -0.073579           0.929063\n",
       "1          SpinRate        -0.028074           0.972316\n",
       "2         HorzBreak        -0.011278           0.988785\n",
       "3  InducedVertBreak        -0.153855           0.857396\n",
       "4  interaction_term         0.012924           1.013008\n",
       "5        break_diff        -0.118688           0.888085"
      ]
     },
     "execution_count": 307,
     "metadata": {},
     "output_type": "execute_result"
    }
   ],
   "source": [
    "final_coefs = final_log.coef_[0]\n",
    "\n",
    "ratio_coefs_final = np.exp(final_coefs)\n",
    "\n",
    "feature_names = x_train.columns\n",
    "final_coefs_df = pd.DataFrame({\n",
    "    'Feature': feature_names,\n",
    "    'Log Coefficient': final_coefs,\n",
    "    'Coefficient Ratio': ratio_coefs_final\n",
    "})\n",
    "\n",
    "final_coefs_df"
   ]
  },
  {
   "cell_type": "code",
   "execution_count": 315,
   "id": "372b75f1-3c3b-40a5-bc5a-6d6e0795793d",
   "metadata": {},
   "outputs": [
    {
     "data": {
      "text/html": [
       "<div>\n",
       "<style scoped>\n",
       "    .dataframe tbody tr th:only-of-type {\n",
       "        vertical-align: middle;\n",
       "    }\n",
       "\n",
       "    .dataframe tbody tr th {\n",
       "        vertical-align: top;\n",
       "    }\n",
       "\n",
       "    .dataframe thead th {\n",
       "        text-align: right;\n",
       "    }\n",
       "</style>\n",
       "<table border=\"1\" class=\"dataframe\">\n",
       "  <thead>\n",
       "    <tr style=\"text-align: right;\">\n",
       "      <th></th>\n",
       "      <th>Velo</th>\n",
       "      <th>SpinRate</th>\n",
       "      <th>HorzBreak</th>\n",
       "      <th>InducedVertBreak</th>\n",
       "    </tr>\n",
       "  </thead>\n",
       "  <tbody>\n",
       "    <tr>\n",
       "      <th>0</th>\n",
       "      <td>94.72</td>\n",
       "      <td>2375.0</td>\n",
       "      <td>3.10</td>\n",
       "      <td>18.15</td>\n",
       "    </tr>\n",
       "    <tr>\n",
       "      <th>1</th>\n",
       "      <td>95.25</td>\n",
       "      <td>2033.0</td>\n",
       "      <td>11.26</td>\n",
       "      <td>14.50</td>\n",
       "    </tr>\n",
       "    <tr>\n",
       "      <th>2</th>\n",
       "      <td>92.61</td>\n",
       "      <td>2389.0</td>\n",
       "      <td>11.00</td>\n",
       "      <td>21.93</td>\n",
       "    </tr>\n",
       "    <tr>\n",
       "      <th>3</th>\n",
       "      <td>94.94</td>\n",
       "      <td>2360.0</td>\n",
       "      <td>6.84</td>\n",
       "      <td>18.11</td>\n",
       "    </tr>\n",
       "    <tr>\n",
       "      <th>4</th>\n",
       "      <td>97.42</td>\n",
       "      <td>2214.0</td>\n",
       "      <td>16.70</td>\n",
       "      <td>13.38</td>\n",
       "    </tr>\n",
       "    <tr>\n",
       "      <th>...</th>\n",
       "      <td>...</td>\n",
       "      <td>...</td>\n",
       "      <td>...</td>\n",
       "      <td>...</td>\n",
       "    </tr>\n",
       "    <tr>\n",
       "      <th>9995</th>\n",
       "      <td>92.32</td>\n",
       "      <td>2148.0</td>\n",
       "      <td>9.72</td>\n",
       "      <td>16.70</td>\n",
       "    </tr>\n",
       "    <tr>\n",
       "      <th>9996</th>\n",
       "      <td>94.96</td>\n",
       "      <td>2420.0</td>\n",
       "      <td>-4.57</td>\n",
       "      <td>14.13</td>\n",
       "    </tr>\n",
       "    <tr>\n",
       "      <th>9997</th>\n",
       "      <td>92.83</td>\n",
       "      <td>2132.0</td>\n",
       "      <td>8.55</td>\n",
       "      <td>18.40</td>\n",
       "    </tr>\n",
       "    <tr>\n",
       "      <th>9998</th>\n",
       "      <td>97.12</td>\n",
       "      <td>2436.0</td>\n",
       "      <td>7.80</td>\n",
       "      <td>15.87</td>\n",
       "    </tr>\n",
       "    <tr>\n",
       "      <th>9999</th>\n",
       "      <td>96.00</td>\n",
       "      <td>2350.0</td>\n",
       "      <td>3.60</td>\n",
       "      <td>18.22</td>\n",
       "    </tr>\n",
       "  </tbody>\n",
       "</table>\n",
       "<p>10000 rows × 4 columns</p>\n",
       "</div>"
      ],
      "text/plain": [
       "       Velo  SpinRate  HorzBreak  InducedVertBreak\n",
       "0     94.72    2375.0       3.10             18.15\n",
       "1     95.25    2033.0      11.26             14.50\n",
       "2     92.61    2389.0      11.00             21.93\n",
       "3     94.94    2360.0       6.84             18.11\n",
       "4     97.42    2214.0      16.70             13.38\n",
       "...     ...       ...        ...               ...\n",
       "9995  92.32    2148.0       9.72             16.70\n",
       "9996  94.96    2420.0      -4.57             14.13\n",
       "9997  92.83    2132.0       8.55             18.40\n",
       "9998  97.12    2436.0       7.80             15.87\n",
       "9999  96.00    2350.0       3.60             18.22\n",
       "\n",
       "[10000 rows x 4 columns]"
      ]
     },
     "execution_count": 315,
     "metadata": {},
     "output_type": "execute_result"
    }
   ],
   "source": [
    "deploy = pd.read_csv('deploy.csv')\n",
    "deploy"
   ]
  },
  {
   "cell_type": "code",
   "execution_count": 316,
   "id": "6e3f42ec-c158-4877-9b5c-8eba4e48ce5c",
   "metadata": {},
   "outputs": [],
   "source": [
    "deploy.fillna(deploy.median(), inplace=True)"
   ]
  },
  {
   "cell_type": "code",
   "execution_count": 317,
   "id": "190fc0d7-1167-4528-b48e-30f8c7fd9463",
   "metadata": {},
   "outputs": [
    {
     "data": {
      "text/html": [
       "<div>\n",
       "<style scoped>\n",
       "    .dataframe tbody tr th:only-of-type {\n",
       "        vertical-align: middle;\n",
       "    }\n",
       "\n",
       "    .dataframe tbody tr th {\n",
       "        vertical-align: top;\n",
       "    }\n",
       "\n",
       "    .dataframe thead th {\n",
       "        text-align: right;\n",
       "    }\n",
       "</style>\n",
       "<table border=\"1\" class=\"dataframe\">\n",
       "  <thead>\n",
       "    <tr style=\"text-align: right;\">\n",
       "      <th></th>\n",
       "      <th>Velo</th>\n",
       "      <th>SpinRate</th>\n",
       "      <th>HorzBreak</th>\n",
       "      <th>InducedVertBreak</th>\n",
       "      <th>interaction_term</th>\n",
       "      <th>break_diff</th>\n",
       "    </tr>\n",
       "  </thead>\n",
       "  <tbody>\n",
       "    <tr>\n",
       "      <th>0</th>\n",
       "      <td>94.72</td>\n",
       "      <td>2375.0</td>\n",
       "      <td>3.10</td>\n",
       "      <td>18.15</td>\n",
       "      <td>56.2650</td>\n",
       "      <td>15.05</td>\n",
       "    </tr>\n",
       "    <tr>\n",
       "      <th>1</th>\n",
       "      <td>95.25</td>\n",
       "      <td>2033.0</td>\n",
       "      <td>11.26</td>\n",
       "      <td>14.50</td>\n",
       "      <td>163.2700</td>\n",
       "      <td>3.24</td>\n",
       "    </tr>\n",
       "    <tr>\n",
       "      <th>2</th>\n",
       "      <td>92.61</td>\n",
       "      <td>2389.0</td>\n",
       "      <td>11.00</td>\n",
       "      <td>21.93</td>\n",
       "      <td>241.2300</td>\n",
       "      <td>10.93</td>\n",
       "    </tr>\n",
       "    <tr>\n",
       "      <th>3</th>\n",
       "      <td>94.94</td>\n",
       "      <td>2360.0</td>\n",
       "      <td>6.84</td>\n",
       "      <td>18.11</td>\n",
       "      <td>123.8724</td>\n",
       "      <td>11.27</td>\n",
       "    </tr>\n",
       "    <tr>\n",
       "      <th>4</th>\n",
       "      <td>97.42</td>\n",
       "      <td>2214.0</td>\n",
       "      <td>16.70</td>\n",
       "      <td>13.38</td>\n",
       "      <td>223.4460</td>\n",
       "      <td>3.32</td>\n",
       "    </tr>\n",
       "    <tr>\n",
       "      <th>...</th>\n",
       "      <td>...</td>\n",
       "      <td>...</td>\n",
       "      <td>...</td>\n",
       "      <td>...</td>\n",
       "      <td>...</td>\n",
       "      <td>...</td>\n",
       "    </tr>\n",
       "    <tr>\n",
       "      <th>9995</th>\n",
       "      <td>92.32</td>\n",
       "      <td>2148.0</td>\n",
       "      <td>9.72</td>\n",
       "      <td>16.70</td>\n",
       "      <td>162.3240</td>\n",
       "      <td>6.98</td>\n",
       "    </tr>\n",
       "    <tr>\n",
       "      <th>9996</th>\n",
       "      <td>94.96</td>\n",
       "      <td>2420.0</td>\n",
       "      <td>-4.57</td>\n",
       "      <td>14.13</td>\n",
       "      <td>-64.5741</td>\n",
       "      <td>18.70</td>\n",
       "    </tr>\n",
       "    <tr>\n",
       "      <th>9997</th>\n",
       "      <td>92.83</td>\n",
       "      <td>2132.0</td>\n",
       "      <td>8.55</td>\n",
       "      <td>18.40</td>\n",
       "      <td>157.3200</td>\n",
       "      <td>9.85</td>\n",
       "    </tr>\n",
       "    <tr>\n",
       "      <th>9998</th>\n",
       "      <td>97.12</td>\n",
       "      <td>2436.0</td>\n",
       "      <td>7.80</td>\n",
       "      <td>15.87</td>\n",
       "      <td>123.7860</td>\n",
       "      <td>8.07</td>\n",
       "    </tr>\n",
       "    <tr>\n",
       "      <th>9999</th>\n",
       "      <td>96.00</td>\n",
       "      <td>2350.0</td>\n",
       "      <td>3.60</td>\n",
       "      <td>18.22</td>\n",
       "      <td>65.5920</td>\n",
       "      <td>14.62</td>\n",
       "    </tr>\n",
       "  </tbody>\n",
       "</table>\n",
       "<p>10000 rows × 6 columns</p>\n",
       "</div>"
      ],
      "text/plain": [
       "       Velo  SpinRate  HorzBreak  InducedVertBreak  interaction_term  \\\n",
       "0     94.72    2375.0       3.10             18.15           56.2650   \n",
       "1     95.25    2033.0      11.26             14.50          163.2700   \n",
       "2     92.61    2389.0      11.00             21.93          241.2300   \n",
       "3     94.94    2360.0       6.84             18.11          123.8724   \n",
       "4     97.42    2214.0      16.70             13.38          223.4460   \n",
       "...     ...       ...        ...               ...               ...   \n",
       "9995  92.32    2148.0       9.72             16.70          162.3240   \n",
       "9996  94.96    2420.0      -4.57             14.13          -64.5741   \n",
       "9997  92.83    2132.0       8.55             18.40          157.3200   \n",
       "9998  97.12    2436.0       7.80             15.87          123.7860   \n",
       "9999  96.00    2350.0       3.60             18.22           65.5920   \n",
       "\n",
       "      break_diff  \n",
       "0          15.05  \n",
       "1           3.24  \n",
       "2          10.93  \n",
       "3          11.27  \n",
       "4           3.32  \n",
       "...          ...  \n",
       "9995        6.98  \n",
       "9996       18.70  \n",
       "9997        9.85  \n",
       "9998        8.07  \n",
       "9999       14.62  \n",
       "\n",
       "[10000 rows x 6 columns]"
      ]
     },
     "execution_count": 317,
     "metadata": {},
     "output_type": "execute_result"
    }
   ],
   "source": [
    "deploy['interaction_term'] = deploy.HorzBreak * deploy.InducedVertBreak\n",
    "deploy['break_diff'] = np.abs(deploy.InducedVertBreak - deploy.HorzBreak)\n",
    "deploy"
   ]
  },
  {
   "cell_type": "code",
   "execution_count": 318,
   "id": "1c47b357-2228-4927-86f2-6c7183f94141",
   "metadata": {},
   "outputs": [],
   "source": [
    "deploy_scaled = scaler.transform(deploy)"
   ]
  },
  {
   "cell_type": "code",
   "execution_count": 319,
   "id": "da8649ee-3257-47de-80fd-62f37d87647d",
   "metadata": {},
   "outputs": [],
   "source": [
    "deploy_yh = final_log.predict_proba(deploy_scaled)[:, 1]"
   ]
  },
  {
   "cell_type": "code",
   "execution_count": 320,
   "id": "5f13f29f-2215-472d-a434-9f7d2c1c54b6",
   "metadata": {},
   "outputs": [],
   "source": [
    "deploy['Probability_InPlay'] = deploy_yh"
   ]
  },
  {
   "cell_type": "code",
   "execution_count": 321,
   "id": "512d5fbf-c6be-4727-a575-0f902ed051c6",
   "metadata": {},
   "outputs": [],
   "source": [
    "deploy.drop('interaction_term', axis=1, inplace=True)"
   ]
  },
  {
   "cell_type": "code",
   "execution_count": 322,
   "id": "b6ce9ee0-7498-4d73-b3e6-8e0a5d64a91e",
   "metadata": {},
   "outputs": [
    {
     "data": {
      "text/html": [
       "<div>\n",
       "<style scoped>\n",
       "    .dataframe tbody tr th:only-of-type {\n",
       "        vertical-align: middle;\n",
       "    }\n",
       "\n",
       "    .dataframe tbody tr th {\n",
       "        vertical-align: top;\n",
       "    }\n",
       "\n",
       "    .dataframe thead th {\n",
       "        text-align: right;\n",
       "    }\n",
       "</style>\n",
       "<table border=\"1\" class=\"dataframe\">\n",
       "  <thead>\n",
       "    <tr style=\"text-align: right;\">\n",
       "      <th></th>\n",
       "      <th>Velo</th>\n",
       "      <th>SpinRate</th>\n",
       "      <th>HorzBreak</th>\n",
       "      <th>InducedVertBreak</th>\n",
       "      <th>break_diff</th>\n",
       "      <th>Probability_InPlay</th>\n",
       "    </tr>\n",
       "  </thead>\n",
       "  <tbody>\n",
       "    <tr>\n",
       "      <th>0</th>\n",
       "      <td>94.72</td>\n",
       "      <td>2375.0</td>\n",
       "      <td>3.10</td>\n",
       "      <td>18.15</td>\n",
       "      <td>15.05</td>\n",
       "      <td>0.208525</td>\n",
       "    </tr>\n",
       "    <tr>\n",
       "      <th>1</th>\n",
       "      <td>95.25</td>\n",
       "      <td>2033.0</td>\n",
       "      <td>11.26</td>\n",
       "      <td>14.50</td>\n",
       "      <td>3.24</td>\n",
       "      <td>0.292691</td>\n",
       "    </tr>\n",
       "    <tr>\n",
       "      <th>2</th>\n",
       "      <td>92.61</td>\n",
       "      <td>2389.0</td>\n",
       "      <td>11.00</td>\n",
       "      <td>21.93</td>\n",
       "      <td>10.93</td>\n",
       "      <td>0.217061</td>\n",
       "    </tr>\n",
       "    <tr>\n",
       "      <th>3</th>\n",
       "      <td>94.94</td>\n",
       "      <td>2360.0</td>\n",
       "      <td>6.84</td>\n",
       "      <td>18.11</td>\n",
       "      <td>11.27</td>\n",
       "      <td>0.224867</td>\n",
       "    </tr>\n",
       "    <tr>\n",
       "      <th>4</th>\n",
       "      <td>97.42</td>\n",
       "      <td>2214.0</td>\n",
       "      <td>16.70</td>\n",
       "      <td>13.38</td>\n",
       "      <td>3.32</td>\n",
       "      <td>0.282747</td>\n",
       "    </tr>\n",
       "    <tr>\n",
       "      <th>...</th>\n",
       "      <td>...</td>\n",
       "      <td>...</td>\n",
       "      <td>...</td>\n",
       "      <td>...</td>\n",
       "      <td>...</td>\n",
       "      <td>...</td>\n",
       "    </tr>\n",
       "    <tr>\n",
       "      <th>9995</th>\n",
       "      <td>92.32</td>\n",
       "      <td>2148.0</td>\n",
       "      <td>9.72</td>\n",
       "      <td>16.70</td>\n",
       "      <td>6.98</td>\n",
       "      <td>0.272503</td>\n",
       "    </tr>\n",
       "    <tr>\n",
       "      <th>9996</th>\n",
       "      <td>94.96</td>\n",
       "      <td>2420.0</td>\n",
       "      <td>-4.57</td>\n",
       "      <td>14.13</td>\n",
       "      <td>18.70</td>\n",
       "      <td>0.212470</td>\n",
       "    </tr>\n",
       "    <tr>\n",
       "      <th>9997</th>\n",
       "      <td>92.83</td>\n",
       "      <td>2132.0</td>\n",
       "      <td>8.55</td>\n",
       "      <td>18.40</td>\n",
       "      <td>9.85</td>\n",
       "      <td>0.246125</td>\n",
       "    </tr>\n",
       "    <tr>\n",
       "      <th>9998</th>\n",
       "      <td>97.12</td>\n",
       "      <td>2436.0</td>\n",
       "      <td>7.80</td>\n",
       "      <td>15.87</td>\n",
       "      <td>8.07</td>\n",
       "      <td>0.239423</td>\n",
       "    </tr>\n",
       "    <tr>\n",
       "      <th>9999</th>\n",
       "      <td>96.00</td>\n",
       "      <td>2350.0</td>\n",
       "      <td>3.60</td>\n",
       "      <td>18.22</td>\n",
       "      <td>14.62</td>\n",
       "      <td>0.204922</td>\n",
       "    </tr>\n",
       "  </tbody>\n",
       "</table>\n",
       "<p>10000 rows × 6 columns</p>\n",
       "</div>"
      ],
      "text/plain": [
       "       Velo  SpinRate  HorzBreak  InducedVertBreak  break_diff  \\\n",
       "0     94.72    2375.0       3.10             18.15       15.05   \n",
       "1     95.25    2033.0      11.26             14.50        3.24   \n",
       "2     92.61    2389.0      11.00             21.93       10.93   \n",
       "3     94.94    2360.0       6.84             18.11       11.27   \n",
       "4     97.42    2214.0      16.70             13.38        3.32   \n",
       "...     ...       ...        ...               ...         ...   \n",
       "9995  92.32    2148.0       9.72             16.70        6.98   \n",
       "9996  94.96    2420.0      -4.57             14.13       18.70   \n",
       "9997  92.83    2132.0       8.55             18.40        9.85   \n",
       "9998  97.12    2436.0       7.80             15.87        8.07   \n",
       "9999  96.00    2350.0       3.60             18.22       14.62   \n",
       "\n",
       "      Probability_InPlay  \n",
       "0               0.208525  \n",
       "1               0.292691  \n",
       "2               0.217061  \n",
       "3               0.224867  \n",
       "4               0.282747  \n",
       "...                  ...  \n",
       "9995            0.272503  \n",
       "9996            0.212470  \n",
       "9997            0.246125  \n",
       "9998            0.239423  \n",
       "9999            0.204922  \n",
       "\n",
       "[10000 rows x 6 columns]"
      ]
     },
     "execution_count": 322,
     "metadata": {},
     "output_type": "execute_result"
    }
   ],
   "source": [
    "deploy"
   ]
  },
  {
   "cell_type": "code",
   "execution_count": 323,
   "id": "26571d7f-78e5-4d9c-9113-878e83e5c2bc",
   "metadata": {},
   "outputs": [],
   "source": [
    "deploy.to_csv('predictions.csv')"
   ]
  }
 ],
 "metadata": {
  "kernelspec": {
   "display_name": "Python 3 (ipykernel)",
   "language": "python",
   "name": "python3"
  },
  "language_info": {
   "codemirror_mode": {
    "name": "ipython",
    "version": 3
   },
   "file_extension": ".py",
   "mimetype": "text/x-python",
   "name": "python",
   "nbconvert_exporter": "python",
   "pygments_lexer": "ipython3",
   "version": "3.10.9"
  }
 },
 "nbformat": 4,
 "nbformat_minor": 5
}
